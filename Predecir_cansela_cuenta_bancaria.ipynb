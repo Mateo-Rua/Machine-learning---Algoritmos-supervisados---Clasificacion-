{
 "cells": [
  {
   "cell_type": "markdown",
   "metadata": {},
   "source": [
    "# Modelo de clasificación con CatBoost aplicado al sector bancario.\n",
    "\n",
    "## Autor: Mateo Londoño Rúa  [LinkedIn](www.linkedin.com/in/mateo-londono-rua117)\n",
    "\n",
    "En el presente proyecto, vamos a desarrollar un modelo con el fin de predecir si un cliente va a cancelar una cuenta o servicio bancario. A continuación, describimos las variables del dataset:\n",
    "\n",
    "\n",
    "* **Churn**: Abandono o cancelación de la cuenta (si el cliente ha dejado de ser cliente).\n",
    "* Customer_Age: Edad del cliente.\n",
    "* Gender: Género del cliente.\n",
    "* Dependent_count: Número de dependientes a cargo del cliente.\n",
    "* Education_Level: Nivel educativo del cliente.\n",
    "* Marital_Status: Estado civil del cliente.\n",
    "* Income_Category: Categoría de ingresos del cliente.\n",
    "* Card_Category: Tipo de tarjeta de crédito que tiene el cliente.\n",
    "* Months_on_book: Meses que el cliente ha estado con la institución (tiempo con la cuenta activa).\n",
    "* Total_Relationship_Count: Número total de productos o servicios que el cliente tiene con la institución.\n",
    "* Months_Inactive_12_mon: Meses en los que el cliente estuvo inactivo en los últimos 12 meses.\n",
    "* Contacts_Count_12_mon: Número de contactos que el cliente tuvo con la institución en los últimos 12 meses.\n",
    "* Credit_Limit: Límite de crédito del cliente.\n",
    "* Total_Revolving_Bal: Saldo total pendiente de la tarjeta de crédito (que se transfiere mes a mes).\n",
    "* Avg_Open_To_Buy: Promedio del crédito disponible.\n",
    "* Total_Amt_Chng_Q4_Q1: Cambio en el monto total gastado entre el cuarto trimestre (Q4) y el primer trimestre (Q1).\n",
    "* Total_Trans_Amt: Monto total de las transacciones.\n",
    "* Total_Trans_Ct: Número total de transacciones realizadas.\n",
    "* Total_Ct_Chng_Q4_Q1: Cambio en el número total de transacciones entre Q4 y Q1.\n",
    "* Avg_Utilization_Ratio: Promedio de la utilización del crédito (ratio de uso del crédito disponible)."
   ]
  },
  {
   "cell_type": "markdown",
   "metadata": {},
   "source": [
    "### Iniciamos cargando librerias "
   ]
  },
  {
   "cell_type": "code",
   "execution_count": 4,
   "metadata": {},
   "outputs": [],
   "source": [
    "import pandas as pd\n",
    "import numpy as np\n",
    "import matplotlib.pyplot as plt\n",
    "import seaborn as sns\n",
    "import warnings\n",
    "warnings.filterwarnings('ignore')\n",
    "\n",
    "pd.set_option('display.max_columns', None)"
   ]
  },
  {
   "cell_type": "code",
   "execution_count": 5,
   "metadata": {},
   "outputs": [],
   "source": [
    "pd.set_option('display.max_columns',None)"
   ]
  },
  {
   "cell_type": "markdown",
   "metadata": {},
   "source": [
    "A continuación, cargamos el dataset para ver los datos que contiene y cómo están distribuidos."
   ]
  },
  {
   "cell_type": "code",
   "execution_count": 6,
   "metadata": {},
   "outputs": [
    {
     "data": {
      "text/html": [
       "<div>\n",
       "<style scoped>\n",
       "    .dataframe tbody tr th:only-of-type {\n",
       "        vertical-align: middle;\n",
       "    }\n",
       "\n",
       "    .dataframe tbody tr th {\n",
       "        vertical-align: top;\n",
       "    }\n",
       "\n",
       "    .dataframe thead th {\n",
       "        text-align: right;\n",
       "    }\n",
       "</style>\n",
       "<table border=\"1\" class=\"dataframe\">\n",
       "  <thead>\n",
       "    <tr style=\"text-align: right;\">\n",
       "      <th></th>\n",
       "      <th>Unnamed: 0</th>\n",
       "      <th>Churn</th>\n",
       "      <th>Customer_Age</th>\n",
       "      <th>Gender</th>\n",
       "      <th>Dependent_count</th>\n",
       "      <th>Education_Level</th>\n",
       "      <th>Marital_Status</th>\n",
       "      <th>Income_Category</th>\n",
       "      <th>Card_Category</th>\n",
       "      <th>Months_on_book</th>\n",
       "      <th>Total_Relationship_Count</th>\n",
       "      <th>Months_Inactive_12_mon</th>\n",
       "      <th>Contacts_Count_12_mon</th>\n",
       "      <th>Credit_Limit</th>\n",
       "      <th>Total_Revolving_Bal</th>\n",
       "      <th>Avg_Open_To_Buy</th>\n",
       "      <th>Total_Amt_Chng_Q4_Q1</th>\n",
       "      <th>Total_Trans_Amt</th>\n",
       "      <th>Total_Trans_Ct</th>\n",
       "      <th>Total_Ct_Chng_Q4_Q1</th>\n",
       "      <th>Avg_Utilization_Ratio</th>\n",
       "    </tr>\n",
       "  </thead>\n",
       "  <tbody>\n",
       "    <tr>\n",
       "      <th>0</th>\n",
       "      <td>2856</td>\n",
       "      <td>0</td>\n",
       "      <td>36</td>\n",
       "      <td>F</td>\n",
       "      <td>0</td>\n",
       "      <td>Unknown</td>\n",
       "      <td>Married</td>\n",
       "      <td>Less than $40K</td>\n",
       "      <td>Blue</td>\n",
       "      <td>24</td>\n",
       "      <td>4</td>\n",
       "      <td>3</td>\n",
       "      <td>2</td>\n",
       "      <td>2570.0</td>\n",
       "      <td>2230</td>\n",
       "      <td>340.0</td>\n",
       "      <td>0.686</td>\n",
       "      <td>1755</td>\n",
       "      <td>42</td>\n",
       "      <td>0.448</td>\n",
       "      <td>0.868</td>\n",
       "    </tr>\n",
       "    <tr>\n",
       "      <th>1</th>\n",
       "      <td>6515</td>\n",
       "      <td>1</td>\n",
       "      <td>44</td>\n",
       "      <td>M</td>\n",
       "      <td>3</td>\n",
       "      <td>High School</td>\n",
       "      <td>Single</td>\n",
       "      <td>$60K - $80K</td>\n",
       "      <td>Silver</td>\n",
       "      <td>36</td>\n",
       "      <td>5</td>\n",
       "      <td>2</td>\n",
       "      <td>3</td>\n",
       "      <td>25276.0</td>\n",
       "      <td>0</td>\n",
       "      <td>25276.0</td>\n",
       "      <td>0.849</td>\n",
       "      <td>2282</td>\n",
       "      <td>38</td>\n",
       "      <td>0.583</td>\n",
       "      <td>0.000</td>\n",
       "    </tr>\n",
       "    <tr>\n",
       "      <th>2</th>\n",
       "      <td>7141</td>\n",
       "      <td>0</td>\n",
       "      <td>46</td>\n",
       "      <td>M</td>\n",
       "      <td>2</td>\n",
       "      <td>High School</td>\n",
       "      <td>Married</td>\n",
       "      <td>$80K - $120K</td>\n",
       "      <td>Blue</td>\n",
       "      <td>30</td>\n",
       "      <td>6</td>\n",
       "      <td>3</td>\n",
       "      <td>1</td>\n",
       "      <td>11670.0</td>\n",
       "      <td>915</td>\n",
       "      <td>10755.0</td>\n",
       "      <td>0.892</td>\n",
       "      <td>4277</td>\n",
       "      <td>89</td>\n",
       "      <td>0.854</td>\n",
       "      <td>0.078</td>\n",
       "    </tr>\n",
       "    <tr>\n",
       "      <th>3</th>\n",
       "      <td>632</td>\n",
       "      <td>0</td>\n",
       "      <td>36</td>\n",
       "      <td>F</td>\n",
       "      <td>2</td>\n",
       "      <td>Graduate</td>\n",
       "      <td>Married</td>\n",
       "      <td>Less than $40K</td>\n",
       "      <td>Blue</td>\n",
       "      <td>24</td>\n",
       "      <td>3</td>\n",
       "      <td>1</td>\n",
       "      <td>3</td>\n",
       "      <td>3124.0</td>\n",
       "      <td>1593</td>\n",
       "      <td>1531.0</td>\n",
       "      <td>0.869</td>\n",
       "      <td>1652</td>\n",
       "      <td>41</td>\n",
       "      <td>0.367</td>\n",
       "      <td>0.510</td>\n",
       "    </tr>\n",
       "    <tr>\n",
       "      <th>4</th>\n",
       "      <td>3496</td>\n",
       "      <td>0</td>\n",
       "      <td>50</td>\n",
       "      <td>M</td>\n",
       "      <td>1</td>\n",
       "      <td>Graduate</td>\n",
       "      <td>Single</td>\n",
       "      <td>$120K +</td>\n",
       "      <td>Blue</td>\n",
       "      <td>40</td>\n",
       "      <td>4</td>\n",
       "      <td>2</td>\n",
       "      <td>3</td>\n",
       "      <td>34516.0</td>\n",
       "      <td>1185</td>\n",
       "      <td>33331.0</td>\n",
       "      <td>0.725</td>\n",
       "      <td>3874</td>\n",
       "      <td>72</td>\n",
       "      <td>0.714</td>\n",
       "      <td>0.034</td>\n",
       "    </tr>\n",
       "    <tr>\n",
       "      <th>...</th>\n",
       "      <td>...</td>\n",
       "      <td>...</td>\n",
       "      <td>...</td>\n",
       "      <td>...</td>\n",
       "      <td>...</td>\n",
       "      <td>...</td>\n",
       "      <td>...</td>\n",
       "      <td>...</td>\n",
       "      <td>...</td>\n",
       "      <td>...</td>\n",
       "      <td>...</td>\n",
       "      <td>...</td>\n",
       "      <td>...</td>\n",
       "      <td>...</td>\n",
       "      <td>...</td>\n",
       "      <td>...</td>\n",
       "      <td>...</td>\n",
       "      <td>...</td>\n",
       "      <td>...</td>\n",
       "      <td>...</td>\n",
       "      <td>...</td>\n",
       "    </tr>\n",
       "    <tr>\n",
       "      <th>8096</th>\n",
       "      <td>6147</td>\n",
       "      <td>0</td>\n",
       "      <td>46</td>\n",
       "      <td>F</td>\n",
       "      <td>4</td>\n",
       "      <td>High School</td>\n",
       "      <td>Married</td>\n",
       "      <td>Unknown</td>\n",
       "      <td>Blue</td>\n",
       "      <td>30</td>\n",
       "      <td>3</td>\n",
       "      <td>1</td>\n",
       "      <td>3</td>\n",
       "      <td>5869.0</td>\n",
       "      <td>0</td>\n",
       "      <td>5869.0</td>\n",
       "      <td>0.852</td>\n",
       "      <td>5103</td>\n",
       "      <td>83</td>\n",
       "      <td>0.844</td>\n",
       "      <td>0.000</td>\n",
       "    </tr>\n",
       "    <tr>\n",
       "      <th>8097</th>\n",
       "      <td>8858</td>\n",
       "      <td>0</td>\n",
       "      <td>52</td>\n",
       "      <td>F</td>\n",
       "      <td>1</td>\n",
       "      <td>High School</td>\n",
       "      <td>Married</td>\n",
       "      <td>Less than $40K</td>\n",
       "      <td>Blue</td>\n",
       "      <td>35</td>\n",
       "      <td>1</td>\n",
       "      <td>3</td>\n",
       "      <td>3</td>\n",
       "      <td>1959.0</td>\n",
       "      <td>1022</td>\n",
       "      <td>937.0</td>\n",
       "      <td>0.780</td>\n",
       "      <td>7847</td>\n",
       "      <td>65</td>\n",
       "      <td>0.857</td>\n",
       "      <td>0.522</td>\n",
       "    </tr>\n",
       "    <tr>\n",
       "      <th>8098</th>\n",
       "      <td>3284</td>\n",
       "      <td>1</td>\n",
       "      <td>61</td>\n",
       "      <td>F</td>\n",
       "      <td>0</td>\n",
       "      <td>Graduate</td>\n",
       "      <td>Single</td>\n",
       "      <td>$40K - $60K</td>\n",
       "      <td>Blue</td>\n",
       "      <td>56</td>\n",
       "      <td>3</td>\n",
       "      <td>3</td>\n",
       "      <td>4</td>\n",
       "      <td>9721.0</td>\n",
       "      <td>0</td>\n",
       "      <td>9721.0</td>\n",
       "      <td>0.826</td>\n",
       "      <td>2260</td>\n",
       "      <td>46</td>\n",
       "      <td>1.000</td>\n",
       "      <td>0.000</td>\n",
       "    </tr>\n",
       "    <tr>\n",
       "      <th>8099</th>\n",
       "      <td>7551</td>\n",
       "      <td>0</td>\n",
       "      <td>43</td>\n",
       "      <td>F</td>\n",
       "      <td>3</td>\n",
       "      <td>Graduate</td>\n",
       "      <td>Married</td>\n",
       "      <td>Less than $40K</td>\n",
       "      <td>Blue</td>\n",
       "      <td>34</td>\n",
       "      <td>6</td>\n",
       "      <td>2</td>\n",
       "      <td>1</td>\n",
       "      <td>2725.0</td>\n",
       "      <td>2517</td>\n",
       "      <td>208.0</td>\n",
       "      <td>0.482</td>\n",
       "      <td>4430</td>\n",
       "      <td>66</td>\n",
       "      <td>0.692</td>\n",
       "      <td>0.924</td>\n",
       "    </tr>\n",
       "    <tr>\n",
       "      <th>8100</th>\n",
       "      <td>7469</td>\n",
       "      <td>0</td>\n",
       "      <td>52</td>\n",
       "      <td>F</td>\n",
       "      <td>3</td>\n",
       "      <td>Uneducated</td>\n",
       "      <td>Single</td>\n",
       "      <td>Less than $40K</td>\n",
       "      <td>Blue</td>\n",
       "      <td>44</td>\n",
       "      <td>3</td>\n",
       "      <td>3</td>\n",
       "      <td>2</td>\n",
       "      <td>2300.0</td>\n",
       "      <td>1598</td>\n",
       "      <td>702.0</td>\n",
       "      <td>0.813</td>\n",
       "      <td>4287</td>\n",
       "      <td>84</td>\n",
       "      <td>0.714</td>\n",
       "      <td>0.695</td>\n",
       "    </tr>\n",
       "  </tbody>\n",
       "</table>\n",
       "<p>8101 rows × 21 columns</p>\n",
       "</div>"
      ],
      "text/plain": [
       "      Unnamed: 0  Churn  Customer_Age Gender  Dependent_count Education_Level  \\\n",
       "0           2856      0            36      F                0         Unknown   \n",
       "1           6515      1            44      M                3     High School   \n",
       "2           7141      0            46      M                2     High School   \n",
       "3            632      0            36      F                2        Graduate   \n",
       "4           3496      0            50      M                1        Graduate   \n",
       "...          ...    ...           ...    ...              ...             ...   \n",
       "8096        6147      0            46      F                4     High School   \n",
       "8097        8858      0            52      F                1     High School   \n",
       "8098        3284      1            61      F                0        Graduate   \n",
       "8099        7551      0            43      F                3        Graduate   \n",
       "8100        7469      0            52      F                3      Uneducated   \n",
       "\n",
       "     Marital_Status Income_Category Card_Category  Months_on_book  \\\n",
       "0           Married  Less than $40K          Blue              24   \n",
       "1            Single     $60K - $80K        Silver              36   \n",
       "2           Married    $80K - $120K          Blue              30   \n",
       "3           Married  Less than $40K          Blue              24   \n",
       "4            Single         $120K +          Blue              40   \n",
       "...             ...             ...           ...             ...   \n",
       "8096        Married         Unknown          Blue              30   \n",
       "8097        Married  Less than $40K          Blue              35   \n",
       "8098         Single     $40K - $60K          Blue              56   \n",
       "8099        Married  Less than $40K          Blue              34   \n",
       "8100         Single  Less than $40K          Blue              44   \n",
       "\n",
       "      Total_Relationship_Count  Months_Inactive_12_mon  Contacts_Count_12_mon  \\\n",
       "0                            4                       3                      2   \n",
       "1                            5                       2                      3   \n",
       "2                            6                       3                      1   \n",
       "3                            3                       1                      3   \n",
       "4                            4                       2                      3   \n",
       "...                        ...                     ...                    ...   \n",
       "8096                         3                       1                      3   \n",
       "8097                         1                       3                      3   \n",
       "8098                         3                       3                      4   \n",
       "8099                         6                       2                      1   \n",
       "8100                         3                       3                      2   \n",
       "\n",
       "      Credit_Limit  Total_Revolving_Bal  Avg_Open_To_Buy  \\\n",
       "0           2570.0                 2230            340.0   \n",
       "1          25276.0                    0          25276.0   \n",
       "2          11670.0                  915          10755.0   \n",
       "3           3124.0                 1593           1531.0   \n",
       "4          34516.0                 1185          33331.0   \n",
       "...            ...                  ...              ...   \n",
       "8096        5869.0                    0           5869.0   \n",
       "8097        1959.0                 1022            937.0   \n",
       "8098        9721.0                    0           9721.0   \n",
       "8099        2725.0                 2517            208.0   \n",
       "8100        2300.0                 1598            702.0   \n",
       "\n",
       "      Total_Amt_Chng_Q4_Q1  Total_Trans_Amt  Total_Trans_Ct  \\\n",
       "0                    0.686             1755              42   \n",
       "1                    0.849             2282              38   \n",
       "2                    0.892             4277              89   \n",
       "3                    0.869             1652              41   \n",
       "4                    0.725             3874              72   \n",
       "...                    ...              ...             ...   \n",
       "8096                 0.852             5103              83   \n",
       "8097                 0.780             7847              65   \n",
       "8098                 0.826             2260              46   \n",
       "8099                 0.482             4430              66   \n",
       "8100                 0.813             4287              84   \n",
       "\n",
       "      Total_Ct_Chng_Q4_Q1  Avg_Utilization_Ratio  \n",
       "0                   0.448                  0.868  \n",
       "1                   0.583                  0.000  \n",
       "2                   0.854                  0.078  \n",
       "3                   0.367                  0.510  \n",
       "4                   0.714                  0.034  \n",
       "...                   ...                    ...  \n",
       "8096                0.844                  0.000  \n",
       "8097                0.857                  0.522  \n",
       "8098                1.000                  0.000  \n",
       "8099                0.692                  0.924  \n",
       "8100                0.714                  0.695  \n",
       "\n",
       "[8101 rows x 21 columns]"
      ]
     },
     "execution_count": 6,
     "metadata": {},
     "output_type": "execute_result"
    }
   ],
   "source": [
    "df = pd.read_csv('churn_train.csv')\n",
    "df"
   ]
  },
  {
   "cell_type": "markdown",
   "metadata": {},
   "source": [
    "### Iniciamos el análisis exploratorio.\n",
    "Verificamos el tipo de variable y la cantidad de datos en cada columna"
   ]
  },
  {
   "cell_type": "code",
   "execution_count": 7,
   "metadata": {},
   "outputs": [
    {
     "data": {
      "text/plain": [
       "Index(['Unnamed: 0', 'Churn', 'Customer_Age', 'Gender', 'Dependent_count',\n",
       "       'Education_Level', 'Marital_Status', 'Income_Category', 'Card_Category',\n",
       "       'Months_on_book', 'Total_Relationship_Count', 'Months_Inactive_12_mon',\n",
       "       'Contacts_Count_12_mon', 'Credit_Limit', 'Total_Revolving_Bal',\n",
       "       'Avg_Open_To_Buy', 'Total_Amt_Chng_Q4_Q1', 'Total_Trans_Amt',\n",
       "       'Total_Trans_Ct', 'Total_Ct_Chng_Q4_Q1', 'Avg_Utilization_Ratio'],\n",
       "      dtype='object')"
      ]
     },
     "execution_count": 7,
     "metadata": {},
     "output_type": "execute_result"
    }
   ],
   "source": [
    "df.columns"
   ]
  },
  {
   "cell_type": "code",
   "execution_count": 8,
   "metadata": {},
   "outputs": [
    {
     "name": "stdout",
     "output_type": "stream",
     "text": [
      "<class 'pandas.core.frame.DataFrame'>\n",
      "RangeIndex: 8101 entries, 0 to 8100\n",
      "Data columns (total 21 columns):\n",
      " #   Column                    Non-Null Count  Dtype  \n",
      "---  ------                    --------------  -----  \n",
      " 0   Unnamed: 0                8101 non-null   int64  \n",
      " 1   Churn                     8101 non-null   int64  \n",
      " 2   Customer_Age              8101 non-null   int64  \n",
      " 3   Gender                    8101 non-null   object \n",
      " 4   Dependent_count           8101 non-null   int64  \n",
      " 5   Education_Level           8101 non-null   object \n",
      " 6   Marital_Status            8101 non-null   object \n",
      " 7   Income_Category           8101 non-null   object \n",
      " 8   Card_Category             8101 non-null   object \n",
      " 9   Months_on_book            8101 non-null   int64  \n",
      " 10  Total_Relationship_Count  8101 non-null   int64  \n",
      " 11  Months_Inactive_12_mon    8101 non-null   int64  \n",
      " 12  Contacts_Count_12_mon     8101 non-null   int64  \n",
      " 13  Credit_Limit              8101 non-null   float64\n",
      " 14  Total_Revolving_Bal       8101 non-null   int64  \n",
      " 15  Avg_Open_To_Buy           8101 non-null   float64\n",
      " 16  Total_Amt_Chng_Q4_Q1      8101 non-null   float64\n",
      " 17  Total_Trans_Amt           8101 non-null   int64  \n",
      " 18  Total_Trans_Ct            8101 non-null   int64  \n",
      " 19  Total_Ct_Chng_Q4_Q1       8101 non-null   float64\n",
      " 20  Avg_Utilization_Ratio     8101 non-null   float64\n",
      "dtypes: float64(5), int64(11), object(5)\n",
      "memory usage: 1.3+ MB\n"
     ]
    }
   ],
   "source": [
    "df.info()"
   ]
  },
  {
   "cell_type": "markdown",
   "metadata": {},
   "source": [
    "Analizamos cuáles variables tienen una mayor correlación con la variable de interés, que en este caso es el precio de la casa, representado por 'SalePrice'."
   ]
  },
  {
   "cell_type": "code",
   "execution_count": 9,
   "metadata": {},
   "outputs": [
    {
     "data": {
      "text/plain": [
       "Churn                       1.000000\n",
       "Contacts_Count_12_mon       0.205486\n",
       "Months_Inactive_12_mon      0.157937\n",
       "Unnamed: 0                  0.131396\n",
       "Dependent_count             0.030940\n",
       "Customer_Age                0.017256\n",
       "Months_on_book              0.008124\n",
       "Avg_Open_To_Buy             0.000161\n",
       "Credit_Limit               -0.023976\n",
       "Total_Amt_Chng_Q4_Q1       -0.129157\n",
       "Total_Relationship_Count   -0.157092\n",
       "Total_Trans_Amt            -0.173479\n",
       "Avg_Utilization_Ratio      -0.188519\n",
       "Total_Revolving_Bal        -0.267587\n",
       "Total_Ct_Chng_Q4_Q1        -0.286473\n",
       "Total_Trans_Ct             -0.372500\n",
       "Name: Churn, dtype: float64"
      ]
     },
     "execution_count": 9,
     "metadata": {},
     "output_type": "execute_result"
    }
   ],
   "source": [
    "cor = df.corr(numeric_only=True)\n",
    "cor['Churn'].sort_values(ascending=False)\n"
   ]
  },
  {
   "cell_type": "markdown",
   "metadata": {},
   "source": [
    "Seleccionamos las variables que consideramos relevantes, basándonos en el conocimiento del negocio, para utilizarlas en el entrenamiento y ajuste de nuestro modelo."
   ]
  },
  {
   "cell_type": "code",
   "execution_count": 10,
   "metadata": {},
   "outputs": [],
   "source": [
    "x_cat = ['Education_Level','Marital_Status','Income_Category','Card_Category']\n",
    "\n",
    "x_num = ['Contacts_Count_12_mon','Months_Inactive_12_mon','Total_Revolving_Bal','Total_Ct_Chng_Q4_Q1','Total_Trans_Ct','Avg_Utilization_Ratio']\n",
    "\n",
    "\n",
    "features = x_cat + x_num \n",
    "x = df[features]\n",
    "y = df[['Churn']]"
   ]
  },
  {
   "cell_type": "markdown",
   "metadata": {},
   "source": [
    "Dividimos los datos en conjuntos de entrenamiento, prueba y validación."
   ]
  },
  {
   "cell_type": "code",
   "execution_count": 11,
   "metadata": {},
   "outputs": [],
   "source": [
    "from sklearn.model_selection import train_test_split\n",
    "\n",
    "x_train , x_test , y_train , y_test = train_test_split(x , y , test_size=0.2 , random_state= 123)"
   ]
  },
  {
   "cell_type": "code",
   "execution_count": 12,
   "metadata": {},
   "outputs": [
    {
     "name": "stdout",
     "output_type": "stream",
     "text": [
      "<class 'pandas.core.frame.DataFrame'>\n",
      "Index: 6480 entries, 337 to 3582\n",
      "Data columns (total 10 columns):\n",
      " #   Column                  Non-Null Count  Dtype  \n",
      "---  ------                  --------------  -----  \n",
      " 0   Education_Level         6480 non-null   object \n",
      " 1   Marital_Status          6480 non-null   object \n",
      " 2   Income_Category         6480 non-null   object \n",
      " 3   Card_Category           6480 non-null   object \n",
      " 4   Contacts_Count_12_mon   6480 non-null   int64  \n",
      " 5   Months_Inactive_12_mon  6480 non-null   int64  \n",
      " 6   Total_Revolving_Bal     6480 non-null   int64  \n",
      " 7   Total_Ct_Chng_Q4_Q1     6480 non-null   float64\n",
      " 8   Total_Trans_Ct          6480 non-null   int64  \n",
      " 9   Avg_Utilization_Ratio   6480 non-null   float64\n",
      "dtypes: float64(2), int64(4), object(4)\n",
      "memory usage: 556.9+ KB\n"
     ]
    }
   ],
   "source": [
    "x_train.info()"
   ]
  },
  {
   "cell_type": "markdown",
   "metadata": {},
   "source": [
    "Verificamos que no haya datos nulos en las variables seleccionadas."
   ]
  },
  {
   "cell_type": "code",
   "execution_count": 13,
   "metadata": {},
   "outputs": [
    {
     "data": {
      "text/plain": [
       "Education_Level           0\n",
       "Marital_Status            0\n",
       "Income_Category           0\n",
       "Card_Category             0\n",
       "Contacts_Count_12_mon     0\n",
       "Months_Inactive_12_mon    0\n",
       "Total_Revolving_Bal       0\n",
       "Total_Ct_Chng_Q4_Q1       0\n",
       "Total_Trans_Ct            0\n",
       "Avg_Utilization_Ratio     0\n",
       "dtype: int64"
      ]
     },
     "execution_count": 13,
     "metadata": {},
     "output_type": "execute_result"
    }
   ],
   "source": [
    "x_train.isnull().sum()"
   ]
  },
  {
   "cell_type": "code",
   "execution_count": 14,
   "metadata": {},
   "outputs": [
    {
     "data": {
      "text/html": [
       "<div>\n",
       "<style scoped>\n",
       "    .dataframe tbody tr th:only-of-type {\n",
       "        vertical-align: middle;\n",
       "    }\n",
       "\n",
       "    .dataframe tbody tr th {\n",
       "        vertical-align: top;\n",
       "    }\n",
       "\n",
       "    .dataframe thead th {\n",
       "        text-align: right;\n",
       "    }\n",
       "</style>\n",
       "<table border=\"1\" class=\"dataframe\">\n",
       "  <thead>\n",
       "    <tr style=\"text-align: right;\">\n",
       "      <th></th>\n",
       "      <th>Contacts_Count_12_mon</th>\n",
       "      <th>Months_Inactive_12_mon</th>\n",
       "      <th>Total_Revolving_Bal</th>\n",
       "      <th>Total_Ct_Chng_Q4_Q1</th>\n",
       "      <th>Total_Trans_Ct</th>\n",
       "      <th>Avg_Utilization_Ratio</th>\n",
       "    </tr>\n",
       "  </thead>\n",
       "  <tbody>\n",
       "    <tr>\n",
       "      <th>count</th>\n",
       "      <td>6480.000000</td>\n",
       "      <td>6480.000000</td>\n",
       "      <td>6480.000000</td>\n",
       "      <td>6480.000000</td>\n",
       "      <td>6480.000000</td>\n",
       "      <td>6480.000000</td>\n",
       "    </tr>\n",
       "    <tr>\n",
       "      <th>mean</th>\n",
       "      <td>2.454784</td>\n",
       "      <td>2.343519</td>\n",
       "      <td>1159.570216</td>\n",
       "      <td>0.713005</td>\n",
       "      <td>64.567284</td>\n",
       "      <td>0.277216</td>\n",
       "    </tr>\n",
       "    <tr>\n",
       "      <th>std</th>\n",
       "      <td>1.112776</td>\n",
       "      <td>1.013821</td>\n",
       "      <td>812.819953</td>\n",
       "      <td>0.241920</td>\n",
       "      <td>23.444129</td>\n",
       "      <td>0.276268</td>\n",
       "    </tr>\n",
       "    <tr>\n",
       "      <th>min</th>\n",
       "      <td>0.000000</td>\n",
       "      <td>0.000000</td>\n",
       "      <td>0.000000</td>\n",
       "      <td>0.000000</td>\n",
       "      <td>10.000000</td>\n",
       "      <td>0.000000</td>\n",
       "    </tr>\n",
       "    <tr>\n",
       "      <th>25%</th>\n",
       "      <td>2.000000</td>\n",
       "      <td>2.000000</td>\n",
       "      <td>355.500000</td>\n",
       "      <td>0.579000</td>\n",
       "      <td>45.000000</td>\n",
       "      <td>0.023000</td>\n",
       "    </tr>\n",
       "    <tr>\n",
       "      <th>50%</th>\n",
       "      <td>2.000000</td>\n",
       "      <td>2.000000</td>\n",
       "      <td>1278.000000</td>\n",
       "      <td>0.700000</td>\n",
       "      <td>67.000000</td>\n",
       "      <td>0.181000</td>\n",
       "    </tr>\n",
       "    <tr>\n",
       "      <th>75%</th>\n",
       "      <td>3.000000</td>\n",
       "      <td>3.000000</td>\n",
       "      <td>1779.000000</td>\n",
       "      <td>0.818250</td>\n",
       "      <td>80.000000</td>\n",
       "      <td>0.506000</td>\n",
       "    </tr>\n",
       "    <tr>\n",
       "      <th>max</th>\n",
       "      <td>6.000000</td>\n",
       "      <td>6.000000</td>\n",
       "      <td>2517.000000</td>\n",
       "      <td>3.714000</td>\n",
       "      <td>139.000000</td>\n",
       "      <td>0.995000</td>\n",
       "    </tr>\n",
       "  </tbody>\n",
       "</table>\n",
       "</div>"
      ],
      "text/plain": [
       "       Contacts_Count_12_mon  Months_Inactive_12_mon  Total_Revolving_Bal  \\\n",
       "count            6480.000000             6480.000000          6480.000000   \n",
       "mean                2.454784                2.343519          1159.570216   \n",
       "std                 1.112776                1.013821           812.819953   \n",
       "min                 0.000000                0.000000             0.000000   \n",
       "25%                 2.000000                2.000000           355.500000   \n",
       "50%                 2.000000                2.000000          1278.000000   \n",
       "75%                 3.000000                3.000000          1779.000000   \n",
       "max                 6.000000                6.000000          2517.000000   \n",
       "\n",
       "       Total_Ct_Chng_Q4_Q1  Total_Trans_Ct  Avg_Utilization_Ratio  \n",
       "count          6480.000000     6480.000000            6480.000000  \n",
       "mean              0.713005       64.567284               0.277216  \n",
       "std               0.241920       23.444129               0.276268  \n",
       "min               0.000000       10.000000               0.000000  \n",
       "25%               0.579000       45.000000               0.023000  \n",
       "50%               0.700000       67.000000               0.181000  \n",
       "75%               0.818250       80.000000               0.506000  \n",
       "max               3.714000      139.000000               0.995000  "
      ]
     },
     "execution_count": 14,
     "metadata": {},
     "output_type": "execute_result"
    }
   ],
   "source": [
    "x_train.describe()"
   ]
  },
  {
   "cell_type": "markdown",
   "metadata": {},
   "source": [
    "Verificamos si la variable objetivo 'Churn' está balanceada. Observamos que hay más datos de clientes que no cancelan la tarjeta, lo cual podría sesgar el modelo. Para evitar esto, balanceamos los datos de modo que el modelo aprenda de manera equitativa ambos casos."
   ]
  },
  {
   "cell_type": "code",
   "execution_count": 15,
   "metadata": {},
   "outputs": [
    {
     "data": {
      "text/plain": [
       "Churn\n",
       "0        5439\n",
       "1        1041\n",
       "Name: count, dtype: int64"
      ]
     },
     "execution_count": 15,
     "metadata": {},
     "output_type": "execute_result"
    }
   ],
   "source": [
    "y_train.value_counts()"
   ]
  },
  {
   "cell_type": "code",
   "execution_count": 16,
   "metadata": {},
   "outputs": [],
   "source": [
    "### Balanceo\n",
    "from imblearn.over_sampling import SMOTENC\n",
    "oversample = SMOTENC(categorical_features = [0,1,2,3])\n",
    "x_train_balanceado, y_train_balanceado = oversample.fit_resample(x_train, y_train)"
   ]
  },
  {
   "cell_type": "markdown",
   "metadata": {},
   "source": [
    "Visualizamos los datos balanceados para asegurarnos de que ahora ambas clases estén representadas de manera equitativa."
   ]
  },
  {
   "cell_type": "code",
   "execution_count": 17,
   "metadata": {},
   "outputs": [
    {
     "data": {
      "text/plain": [
       "Churn\n",
       "0        5439\n",
       "1        5439\n",
       "Name: count, dtype: int64"
      ]
     },
     "execution_count": 17,
     "metadata": {},
     "output_type": "execute_result"
    }
   ],
   "source": [
    "y_train_balanceado.value_counts()"
   ]
  },
  {
   "cell_type": "code",
   "execution_count": 77,
   "metadata": {},
   "outputs": [],
   "source": [
    "### KFold Validation\n",
    "import catboost\n",
    "\n",
    "\n",
    "modelo = catboost.CatBoostClassifier(random_state = 123,\n",
    "                                     cat_features = ['Education_Level','Marital_Status','Card_Category','Income_Category'],\n",
    "                                     verbose = False,\n",
    "                                     max_depth = 12)\n",
    "\n"
   ]
  },
  {
   "cell_type": "code",
   "execution_count": 81,
   "metadata": {},
   "outputs": [
    {
     "data": {
      "text/plain": [
       "<catboost.core.CatBoostClassifier at 0x232bd81a010>"
      ]
     },
     "execution_count": 81,
     "metadata": {},
     "output_type": "execute_result"
    }
   ],
   "source": [
    "modelo.fit(x_train,y_train)"
   ]
  },
  {
   "cell_type": "markdown",
   "metadata": {},
   "source": [
    "Luego de realizar la validación cruzada con los datos balanceados, concluimos que, en este caso particular, es más conveniente entrenar el modelo con los datos originales de 'y_train', en lugar de usar los datos balanceados 'y_train_balanceado'."
   ]
  },
  {
   "cell_type": "code",
   "execution_count": 78,
   "metadata": {},
   "outputs": [],
   "source": [
    "from sklearn.model_selection import cross_validate\n",
    "from sklearn.model_selection import KFold\n",
    "\n",
    "kf = KFold(n_splits=5)\n",
    "cv = cross_validate(modelo, x_train, y_train, cv = kf, return_train_score = True , scoring = ['roc_auc'])"
   ]
  },
  {
   "cell_type": "code",
   "execution_count": 79,
   "metadata": {},
   "outputs": [
    {
     "name": "stdout",
     "output_type": "stream",
     "text": [
      "TEST\n",
      "Validacion crusada test: [0.92962514 0.93814102 0.93228136 0.93607384 0.94921196]\n",
      "Media: 0.9370666630616673\n",
      "\n",
      "TRAIN\n",
      "Validacion crusada train: [0.99767423 0.99737046 0.99726537 0.99837298 0.99872171]\n",
      "Media: 0.997880949119639\n"
     ]
    }
   ],
   "source": [
    "print('TEST')\n",
    "print('Validacion crusada test:',cv['test_roc_auc'])\n",
    "print('Media:',np.mean(cv['test_roc_auc']))\n",
    "print()\n",
    "print('TRAIN')\n",
    "print('Validacion crusada train:',cv['train_roc_auc'])\n",
    "print('Media:',np.mean(cv['train_roc_auc']))"
   ]
  },
  {
   "cell_type": "markdown",
   "metadata": {},
   "source": [
    "Verificamos los resultados del conjunto de entrenamiento y prueba tras realizar la validación cruzada, lo que nos permite evaluar la robustez del modelo y asegurarnos de que no esté sobreajustado."
   ]
  },
  {
   "cell_type": "code",
   "execution_count": 80,
   "metadata": {},
   "outputs": [
    {
     "data": {
      "image/png": "[encoded data removed]",
      "text/plain": [
       "<Figure size 640x480 with 1 Axes>"
      ]
     },
     "metadata": {},
     "output_type": "display_data"
    }
   ],
   "source": [
    "sns.barplot( x = np.arange(1,6), y = cv['train_roc_auc'] , label = 'train') \n",
    "sns.barplot( x = np.arange(1,6), y = cv['test_roc_auc'] , label = 'test')\n",
    "plt.show()"
   ]
  },
  {
   "cell_type": "code",
   "execution_count": 82,
   "metadata": {},
   "outputs": [
    {
     "data": {
      "image/png": "[encoded data removed]",
      "text/plain": [
       "<Figure size 640x480 with 2 Axes>"
      ]
     },
     "metadata": {},
     "output_type": "display_data"
    },
    {
     "name": "stdout",
     "output_type": "stream",
     "text": [
      "accuracy_score:  0.9068476249228871\n",
      "sensivilidad:  0.5862068965517241\n",
      "especificidad:  0.9683823529411765\n",
      "roc_auc_score:  0.7772946247464503\n"
     ]
    }
   ],
   "source": [
    "from sklearn.metrics import accuracy_score,roc_auc_score,confusion_matrix,ConfusionMatrixDisplay,recall_score\n",
    "\n",
    "threshold = 0.5\n",
    "preds = np.where(modelo.predict_proba(x_test)[:,1]>threshold,1,0)\n",
    "\n",
    "cm = confusion_matrix(y_test,preds)\n",
    "diplay = ConfusionMatrixDisplay(cm)\n",
    "diplay.plot()\n",
    "plt.show()\n",
    "\n",
    "\n",
    "print('accuracy_score: ',accuracy_score(y_test,preds))\n",
    "print('sensivilidad: ',recall_score(y_test,preds,pos_label=1))\n",
    "print('especificidad: ',recall_score(y_test,preds,pos_label=0))\n",
    "print('roc_auc_score: ',roc_auc_score(y_test,preds))"
   ]
  },
  {
   "cell_type": "markdown",
   "metadata": {},
   "source": [
    "### optimizamos el modelo "
   ]
  },
  {
   "cell_type": "code",
   "execution_count": 47,
   "metadata": {},
   "outputs": [],
   "source": [
    "#usamos el optimizado roptuna\n",
    "import optuna\n",
    "\n",
    "def objective(trial):\n",
    "\n",
    "\n",
    "    param = {\n",
    "        \"iterations\": trial.suggest_int(\"iterations\",1,100,10),\n",
    "        \"colsample_bylevel\": trial.suggest_float(\"colsample_bylevel\", 0.01, 0.1),\n",
    "        \"depth\": trial.suggest_int(\"depth\", 1, 12),\n",
    "        \"learning_rate\": trial.suggest_float(\"learning_rate\", 0.001,0.4)\n",
    "    }\n",
    "    kf = KFold(n_splits=5)\n",
    "\n",
    "    modelo_optimizado = catboost.CatBoostClassifier(random_state = 123,\n",
    "                                        cat_features = ['Education_Level','Marital_Status','Card_Category','Income_Category'],\n",
    "                                        verbose = False,\n",
    "                                        **param)\n",
    "\n",
    "    cv = cross_validate(modelo_optimizado, x_train, y_train, cv = kf, return_train_score = True , scoring = ['roc_auc'])\n",
    "    auc = np.mean(cv['test_roc_auc'])\n",
    "    dispersion = np.std(cv['test_roc_auc'])\n",
    "    return auc"
   ]
  },
  {
   "cell_type": "code",
   "execution_count": 48,
   "metadata": {},
   "outputs": [
    {
     "name": "stderr",
     "output_type": "stream",
     "text": [
      "[I 2024-09-11 20:50:53,690] A new study created in memory with name: no-name-2bf4ca58-562e-47c1-b81b-dbf98882cc25\n",
      "[I 2024-09-11 20:50:56,038] Trial 0 finished with value: 0.8087934554845233 and parameters: {'iterations': 11, 'colsample_bylevel': 0.056859843617071554, 'depth': 6, 'learning_rate': 0.04870484917184334}. Best is trial 0 with value: 0.8087934554845233.\n",
      "[I 2024-09-11 20:51:00,094] Trial 1 finished with value: 0.9180045395832845 and parameters: {'iterations': 91, 'colsample_bylevel': 0.08832924346041682, 'depth': 12, 'learning_rate': 0.09792913050270148}. Best is trial 1 with value: 0.9180045395832845.\n",
      "[I 2024-09-11 20:51:02,669] Trial 2 finished with value: 0.5846383104112078 and parameters: {'iterations': 1, 'colsample_bylevel': 0.05227587938694238, 'depth': 8, 'learning_rate': 0.26147905313712894}. Best is trial 1 with value: 0.9180045395832845.\n",
      "[I 2024-09-11 20:51:04,584] Trial 3 finished with value: 0.722824738209088 and parameters: {'iterations': 21, 'colsample_bylevel': 0.02646017342030258, 'depth': 10, 'learning_rate': 0.0887743272922392}. Best is trial 1 with value: 0.9180045395832845.\n",
      "[I 2024-09-11 20:51:08,280] Trial 4 finished with value: 0.9024394385373478 and parameters: {'iterations': 91, 'colsample_bylevel': 0.09390134292378265, 'depth': 9, 'learning_rate': 0.03775711958202484}. Best is trial 1 with value: 0.9180045395832845.\n",
      "[I 2024-09-11 20:51:10,901] Trial 5 finished with value: 0.8737468851316956 and parameters: {'iterations': 61, 'colsample_bylevel': 0.03163659770313717, 'depth': 1, 'learning_rate': 0.3527596371946246}. Best is trial 1 with value: 0.9180045395832845.\n",
      "[I 2024-09-11 20:51:13,887] Trial 6 finished with value: 0.9034992409768495 and parameters: {'iterations': 81, 'colsample_bylevel': 0.09243331323366032, 'depth': 1, 'learning_rate': 0.1264677493980516}. Best is trial 1 with value: 0.9180045395832845.\n",
      "[I 2024-09-11 20:51:15,821] Trial 7 finished with value: 0.6935439970362046 and parameters: {'iterations': 11, 'colsample_bylevel': 0.0349945308040761, 'depth': 5, 'learning_rate': 0.13892630732291858}. Best is trial 1 with value: 0.9180045395832845.\n",
      "[I 2024-09-11 20:52:34,700] Trial 8 finished with value: 0.9278100822945253 and parameters: {'iterations': 81, 'colsample_bylevel': 0.09168748985927101, 'depth': 11, 'learning_rate': 0.20041210271697182}. Best is trial 8 with value: 0.9278100822945253.\n",
      "[I 2024-09-11 20:54:44,614] Trial 9 finished with value: 0.5169987422113422 and parameters: {'iterations': 1, 'colsample_bylevel': 0.0953413136200881, 'depth': 1, 'learning_rate': 0.37730902448690806}. Best is trial 8 with value: 0.9278100822945253.\n"
     ]
    }
   ],
   "source": [
    "study = optuna.create_study(direction=\"maximize\")\n",
    "study.optimize(objective, n_trials=10)"
   ]
  },
  {
   "cell_type": "markdown",
   "metadata": {},
   "source": [
    "Extraemos los mejores parámetros para el modelo después de la optimización."
   ]
  },
  {
   "cell_type": "code",
   "execution_count": 50,
   "metadata": {},
   "outputs": [
    {
     "data": {
      "text/plain": [
       "{'iterations': 81,\n",
       " 'colsample_bylevel': 0.09168748985927101,\n",
       " 'depth': 11,\n",
       " 'learning_rate': 0.20041210271697182}"
      ]
     },
     "execution_count": 50,
     "metadata": {},
     "output_type": "execute_result"
    }
   ],
   "source": [
    "study.best_params"
   ]
  },
  {
   "cell_type": "code",
   "execution_count": 53,
   "metadata": {},
   "outputs": [
    {
     "data": {
      "text/plain": [
       "FrozenTrial(number=8, state=1, values=[0.9278100822945253], datetime_start=datetime.datetime(2024, 9, 11, 20, 51, 15, 822242), datetime_complete=datetime.datetime(2024, 9, 11, 20, 52, 34, 699151), params={'iterations': 81, 'colsample_bylevel': 0.09168748985927101, 'depth': 11, 'learning_rate': 0.20041210271697182}, user_attrs={}, system_attrs={}, intermediate_values={}, distributions={'iterations': IntDistribution(high=91, log=False, low=1, step=10), 'colsample_bylevel': FloatDistribution(high=0.1, log=False, low=0.01, step=None), 'depth': IntDistribution(high=12, log=False, low=1, step=1), 'learning_rate': FloatDistribution(high=0.4, log=False, low=0.001, step=None)}, trial_id=8, value=None)"
      ]
     },
     "execution_count": 53,
     "metadata": {},
     "output_type": "execute_result"
    }
   ],
   "source": [
    "study.best_trial"
   ]
  },
  {
   "cell_type": "markdown",
   "metadata": {},
   "source": [
    "Implementamos los nuevos parámetros en el modelo."
   ]
  },
  {
   "cell_type": "code",
   "execution_count": 54,
   "metadata": {},
   "outputs": [],
   "source": [
    "param = {'iterations': 81,\n",
    " 'colsample_bylevel': 0.09168748985927101,\n",
    " 'depth': 11,\n",
    " 'learning_rate': 0.20041210271697182}\n",
    "\n",
    "\n",
    "modelo_optimizado = catboost.CatBoostClassifier(random_state = 123,\n",
    "                                    cat_features = ['Education_Level','Marital_Status','Card_Category','Income_Category'],\n",
    "                                    verbose = False,\n",
    "                                        **param)"
   ]
  },
  {
   "cell_type": "code",
   "execution_count": 55,
   "metadata": {},
   "outputs": [],
   "source": [
    "from sklearn.model_selection import cross_validate\n",
    "from sklearn.model_selection import KFold\n",
    "\n",
    "kf = KFold(n_splits=5)\n",
    "cv_optimizado = cross_validate(modelo_optimizado, x_train, y_train, cv = kf, return_train_score = True , scoring = ['roc_auc'])"
   ]
  },
  {
   "cell_type": "code",
   "execution_count": 56,
   "metadata": {},
   "outputs": [
    {
     "name": "stdout",
     "output_type": "stream",
     "text": [
      "TEST\n",
      "Validacion crusada test: [0.92305012 0.92833814 0.92452744 0.9214768  0.94165791]\n",
      "Media: 0.9278100822945253\n",
      "\n",
      "TRAIN\n",
      "Validacion crusada train: [0.93641864 0.93559182 0.93783527 0.93842276 0.93478647]\n",
      "Media: 0.9366109897793411\n"
     ]
    }
   ],
   "source": [
    "print('TEST')\n",
    "print('Validacion crusada test:',cv_optimizado['test_roc_auc'])\n",
    "print('Media:',np.mean(cv_optimizado['test_roc_auc']))\n",
    "print()\n",
    "print('TRAIN')\n",
    "print('Validacion crusada train:',cv_optimizado['train_roc_auc'])\n",
    "print('Media:',np.mean(cv_optimizado['train_roc_auc']))"
   ]
  },
  {
   "cell_type": "markdown",
   "metadata": {},
   "source": [
    "\n",
    "Verificamos mediante validación cruzada que el modelo con los nuevos hiperparámetros optimizados es más preciso que el modelo inicial."
   ]
  },
  {
   "cell_type": "code",
   "execution_count": 57,
   "metadata": {},
   "outputs": [
    {
     "data": {
      "image/png": "[encoded data removed]",
      "text/plain": [
       "<Figure size 640x480 with 1 Axes>"
      ]
     },
     "metadata": {},
     "output_type": "display_data"
    }
   ],
   "source": [
    "sns.barplot( x = np.arange(1,6), y = cv_optimizado['train_roc_auc'] , label = 'train') \n",
    "sns.barplot( x = np.arange(1,6), y = cv_optimizado['test_roc_auc'] , label = 'test')\n",
    "plt.show()"
   ]
  },
  {
   "cell_type": "code",
   "execution_count": 58,
   "metadata": {},
   "outputs": [
    {
     "data": {
      "text/plain": [
       "<catboost.core.CatBoostClassifier at 0x232bd8108d0>"
      ]
     },
     "execution_count": 58,
     "metadata": {},
     "output_type": "execute_result"
    }
   ],
   "source": [
    "modelo_optimizado.fit(x_train,y_train)"
   ]
  },
  {
   "cell_type": "code",
   "execution_count": 83,
   "metadata": {},
   "outputs": [],
   "source": [
    "preds_optimizad = modelo_optimizado.predict(x_test)"
   ]
  },
  {
   "cell_type": "markdown",
   "metadata": {},
   "source": [
    "A continuación, podemos revisar la matriz de confusión y las métricas para evaluar el modelo de clasificación.\n",
    "\n",
    "\n",
    "**Accuracy_score:** Mide la proporción de predicciones correctas sobre el total de predicciones. Es decir, cuántas veces el modelo predijo correctamente \n",
    "\n",
    "**Sensibilidad:** (recall_score con pos_label=1): También conocida como \"recall\" o \"verdaderos positivos\", es la proporción de observaciones positivas correctamente identificadas por el modelo.\n",
    "\n",
    "**Especificidad:** (recall_score con pos_label=0): Es la capacidad del modelo de identificar correctamente los negativos\n",
    "\n",
    "**roc_auc_score:** El área bajo la curva ROC mide la capacidad del modelo para discriminar entre clases positivas y negativas. Un valor de 1 indica una perfecta separación entre las clases, mientras que un valor de 0.5 indica que el modelo no tiene capacidad de discriminación"
   ]
  },
  {
   "cell_type": "code",
   "execution_count": 84,
   "metadata": {},
   "outputs": [
    {
     "data": {
      "image/png": "[encoded data removed]",
      "text/plain": [
       "<Figure size 640x480 with 2 Axes>"
      ]
     },
     "metadata": {},
     "output_type": "display_data"
    },
    {
     "name": "stdout",
     "output_type": "stream",
     "text": [
      "accuracy_score:  0.8982109808760025\n",
      "sensivilidad:  0.5019157088122606\n",
      "especificidad:  0.9742647058823529\n",
      "roc_auc_score:  0.7380902073473067\n"
     ]
    }
   ],
   "source": [
    "\n",
    "\n",
    "threshold = 0.5\n",
    "preds_optimizado = np.where(modelo_optimizado.predict_proba(x_test)[:,1]>threshold,1,0)\n",
    "\n",
    "cm = confusion_matrix(y_test,preds_optimizado)\n",
    "diplay = ConfusionMatrixDisplay(cm)\n",
    "diplay.plot()\n",
    "plt.show()\n",
    "\n",
    "\n",
    "print('accuracy_score: ',accuracy_score(y_test,preds_optimizado))\n",
    "print('sensivilidad: ',recall_score(y_test,preds_optimizado,pos_label=1))\n",
    "print('especificidad: ',recall_score(y_test,preds_optimizado,pos_label=0))\n",
    "print('roc_auc_score: ',roc_auc_score(y_test,preds_optimizado))"
   ]
  },
  {
   "cell_type": "markdown",
   "metadata": {},
   "source": [
    "### Grafico - curva roc_auc_score"
   ]
  },
  {
   "cell_type": "code",
   "execution_count": 85,
   "metadata": {},
   "outputs": [
    {
     "data": {
      "image/png": "[encoded data removed]",
      "text/plain": [
       "<Figure size 640x480 with 1 Axes>"
      ]
     },
     "metadata": {},
     "output_type": "display_data"
    }
   ],
   "source": [
    "import sklearn.metrics as metrics\n",
    "# calculate the fpr and tpr for all thresholds of the classification\n",
    "probs = modelo.predict_proba(x_test)\n",
    "preds = probs[:,1]\n",
    "fpr, tpr, threshold = metrics.roc_curve(y_test, preds_optimizado)\n",
    "roc_auc = metrics.auc(fpr, tpr)\n",
    "\n",
    "# method I: plt\n",
    "import matplotlib.pyplot as plt\n",
    "plt.title('Receiver Operating Characteristic')\n",
    "plt.plot(fpr, tpr, 'b', label = 'AUC = %0.2f' % roc_auc)\n",
    "plt.legend(loc = 'lower right')\n",
    "plt.plot([0, 1], [0, 1],'r--')\n",
    "plt.xlim([0, 1])\n",
    "plt.ylim([0, 1])\n",
    "plt.ylabel('True Positive Rate')\n",
    "plt.xlabel('False Positive Rate')\n",
    "plt.show()"
   ]
  },
  {
   "cell_type": "markdown",
   "metadata": {},
   "source": [
    "### Grafica  - Curva de Precisión-Recall "
   ]
  },
  {
   "cell_type": "markdown",
   "metadata": {},
   "source": [
    "Esta gráfica nos ayuda a escoger el threshold (umbral) ideal para tu modelo de clasificación. Nos permite visualizar el balance entre precisión y recall a medida que cambias el umbral de decisión."
   ]
  },
  {
   "cell_type": "code",
   "execution_count": 86,
   "metadata": {},
   "outputs": [
    {
     "data": {
      "image/png": "[encoded data removed]",
      "text/plain": [
       "<Figure size 640x480 with 1 Axes>"
      ]
     },
     "metadata": {},
     "output_type": "display_data"
    },
    {
     "data": {
      "text/plain": [
       "(array([0.16101172, 0.16131026, 0.1615099 , ..., 1.        , 1.        ,\n",
       "        1.        ]),\n",
       " array([1.        , 1.        , 1.        , ..., 0.00766284, 0.00383142,\n",
       "        0.        ]),\n",
       " array([0.00836322, 0.00844795, 0.00878958, ..., 0.94537251, 0.96149255,\n",
       "        0.96309249]))"
      ]
     },
     "execution_count": 86,
     "metadata": {},
     "output_type": "execute_result"
    }
   ],
   "source": [
    "from sklearn.metrics import precision_recall_curve\n",
    "def plot_precision_recall(y_test, preds_optimizado):\n",
    "    y_proba = preds_optimizado[:,1]\n",
    "    precision, recall, thresholds = precision_recall_curve(y_test, y_proba)\n",
    "    auc_precision_recall = metrics.auc(recall, precision)\n",
    "    plt.figure()\n",
    "    plt.plot(thresholds, precision[:-1], \"b--\", label=\"Precision\")\n",
    "    plt.plot(thresholds, recall[:-1], \"g-\", label=\"Recall\")\n",
    "    plt.xlabel('Recall')\n",
    "    plt.ylabel('Precision')\n",
    "    plt.title('Precisión-Recall')\n",
    "    plt.legend(loc='best')\n",
    "    plt.show()\n",
    "    return precision, recall, thresholds\n",
    "\n",
    "plot_precision_recall(y_test, modelo_optimizado.predict_proba(x_test))"
   ]
  },
  {
   "cell_type": "markdown",
   "metadata": {},
   "source": [
    "Podemos visualizar en un DataFrame de Pandas los valores reales y las predicciones del modelo."
   ]
  },
  {
   "cell_type": "code",
   "execution_count": 87,
   "metadata": {},
   "outputs": [
    {
     "data": {
      "text/html": [
       "<div>\n",
       "<style scoped>\n",
       "    .dataframe tbody tr th:only-of-type {\n",
       "        vertical-align: middle;\n",
       "    }\n",
       "\n",
       "    .dataframe tbody tr th {\n",
       "        vertical-align: top;\n",
       "    }\n",
       "\n",
       "    .dataframe thead th {\n",
       "        text-align: right;\n",
       "    }\n",
       "</style>\n",
       "<table border=\"1\" class=\"dataframe\">\n",
       "  <thead>\n",
       "    <tr style=\"text-align: right;\">\n",
       "      <th></th>\n",
       "      <th>Churn</th>\n",
       "      <th>preds</th>\n",
       "    </tr>\n",
       "  </thead>\n",
       "  <tbody>\n",
       "    <tr>\n",
       "      <th>7990</th>\n",
       "      <td>0</td>\n",
       "      <td>0</td>\n",
       "    </tr>\n",
       "    <tr>\n",
       "      <th>1613</th>\n",
       "      <td>0</td>\n",
       "      <td>0</td>\n",
       "    </tr>\n",
       "    <tr>\n",
       "      <th>6741</th>\n",
       "      <td>0</td>\n",
       "      <td>0</td>\n",
       "    </tr>\n",
       "    <tr>\n",
       "      <th>7718</th>\n",
       "      <td>0</td>\n",
       "      <td>0</td>\n",
       "    </tr>\n",
       "    <tr>\n",
       "      <th>7067</th>\n",
       "      <td>1</td>\n",
       "      <td>1</td>\n",
       "    </tr>\n",
       "    <tr>\n",
       "      <th>...</th>\n",
       "      <td>...</td>\n",
       "      <td>...</td>\n",
       "    </tr>\n",
       "    <tr>\n",
       "      <th>7420</th>\n",
       "      <td>0</td>\n",
       "      <td>0</td>\n",
       "    </tr>\n",
       "    <tr>\n",
       "      <th>1247</th>\n",
       "      <td>0</td>\n",
       "      <td>0</td>\n",
       "    </tr>\n",
       "    <tr>\n",
       "      <th>2862</th>\n",
       "      <td>0</td>\n",
       "      <td>0</td>\n",
       "    </tr>\n",
       "    <tr>\n",
       "      <th>4729</th>\n",
       "      <td>1</td>\n",
       "      <td>0</td>\n",
       "    </tr>\n",
       "    <tr>\n",
       "      <th>2448</th>\n",
       "      <td>0</td>\n",
       "      <td>0</td>\n",
       "    </tr>\n",
       "  </tbody>\n",
       "</table>\n",
       "<p>1621 rows × 2 columns</p>\n",
       "</div>"
      ],
      "text/plain": [
       "      Churn  preds\n",
       "7990      0      0\n",
       "1613      0      0\n",
       "6741      0      0\n",
       "7718      0      0\n",
       "7067      1      1\n",
       "...     ...    ...\n",
       "7420      0      0\n",
       "1247      0      0\n",
       "2862      0      0\n",
       "4729      1      0\n",
       "2448      0      0\n",
       "\n",
       "[1621 rows x 2 columns]"
      ]
     },
     "execution_count": 87,
     "metadata": {},
     "output_type": "execute_result"
    }
   ],
   "source": [
    "df_salida = y_test.copy()\n",
    "df_salida['preds'] = preds_optimizado\n",
    "df_salida"
   ]
  },
  {
   "cell_type": "markdown",
   "metadata": {},
   "source": [
    "Verificamos de forma gráfica cuáles son las variables que más importancia tienen para el modelo."
   ]
  },
  {
   "cell_type": "code",
   "execution_count": 63,
   "metadata": {},
   "outputs": [
    {
     "data": {
      "image/png": "[encoded data removed]",
      "text/plain": [
       "<Figure size 640x480 with 1 Axes>"
      ]
     },
     "metadata": {},
     "output_type": "display_data"
    }
   ],
   "source": [
    "a = pd.DataFrame(modelo_optimizado.feature_importances_, columns = ['importance'], index = features).sort_values(by = ['importance'], ascending = False)\n",
    "sns.barplot(a, x = 'importance', y = a.index)\n",
    "plt.show()"
   ]
  }
 ],
 "metadata": {
  "kernelspec": {
   "display_name": "Python 3",
   "language": "python",
   "name": "python3"
  },
  "language_info": {
   "codemirror_mode": {
    "name": "ipython",
    "version": 3
   },
   "file_extension": ".py",
   "mimetype": "text/x-python",
   "name": "python",
   "nbconvert_exporter": "python",
   "pygments_lexer": "ipython3",
   "version": "3.11.4"
  }
 },
 "nbformat": 4,
 "nbformat_minor": 2
}
